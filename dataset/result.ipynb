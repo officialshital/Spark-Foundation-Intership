{
 "cells": [
  {
   "cell_type": "markdown",
   "id": "91753e6a",
   "metadata": {},
   "source": [
    "# LinearRegression"
   ]
  },
  {
   "cell_type": "markdown",
   "id": "fa03af7d",
   "metadata": {},
   "source": [
    "its Accuracy : 4.621333622532769"
   ]
  },
  {
   "cell_type": "markdown",
   "id": "70f79c30",
   "metadata": {},
   "source": [
    "# RandomForestRegressor"
   ]
  },
  {
   "cell_type": "markdown",
   "id": "97c211d0",
   "metadata": {},
   "source": [
    "its  Accuracy :4.864150000000003"
   ]
  },
  {
   "cell_type": "code",
   "execution_count": null,
   "id": "e2b55970",
   "metadata": {},
   "outputs": [],
   "source": []
  }
 ],
 "metadata": {
  "kernelspec": {
   "display_name": "Python 3 (ipykernel)",
   "language": "python",
   "name": "python3"
  },
  "language_info": {
   "codemirror_mode": {
    "name": "ipython",
    "version": 3
   },
   "file_extension": ".py",
   "mimetype": "text/x-python",
   "name": "python",
   "nbconvert_exporter": "python",
   "pygments_lexer": "ipython3",
   "version": "3.10.9"
  }
 },
 "nbformat": 4,
 "nbformat_minor": 5
}
